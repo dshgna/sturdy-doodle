{
 "cells": [
  {
   "cell_type": "code",
   "execution_count": 1,
   "id": "c48abf3a",
   "metadata": {},
   "outputs": [],
   "source": [
    "import datetime as dt\n",
    "import pyarrow.feather as feather\n",
    "import json\n",
    "import pandas as pd\n",
    "import pprint\n",
    "import praw\n",
    "\n",
    "from google.cloud import storage\n",
    "from psaw import PushshiftAPI\n",
    "\n",
    "# Display options\n",
    "pd.set_option('display.max_columns', 50)\n",
    "pd.set_option('max_colwidth', 400)"
   ]
  },
  {
   "cell_type": "code",
   "execution_count": 2,
   "id": "6eb6c86a",
   "metadata": {},
   "outputs": [],
   "source": [
    "# Import client id and secret to use with PRAW\n",
    "with open(\"keys.json\", \"r\") as credentials:\n",
    "    data = json.load(credentials)\n",
    "    c_id = data[\"client_id\"]\n",
    "    c_secret = data[\"client_secret\"]\n",
    "    u = data[\"username\"]\n",
    "    p = data[\"password\"]"
   ]
  },
  {
   "cell_type": "markdown",
   "id": "6d70d3f4",
   "metadata": {},
   "source": [
    "# Initialise Google Cloud Storage"
   ]
  },
  {
   "cell_type": "code",
   "execution_count": 3,
   "id": "a46582dc",
   "metadata": {},
   "outputs": [
    {
     "name": "stdout",
     "output_type": "stream",
     "text": [
      "Client created using default project: tonal-studio-322315\n",
      "Buckets in tonal-studio-322315:\n",
      "\t Bucket name: talk-bucket\n",
      "\t Bucket location: EUROPE-WEST2\n",
      "\t Bucket storage class: STANDARD\n"
     ]
    }
   ],
   "source": [
    "# Create a client\n",
    "client = storage.Client()\n",
    "print(\"Client created using default project: {}\".format(client.project))\n",
    "\n",
    "# List available buckets\n",
    "buckets = client.list_buckets()\n",
    "\n",
    "# List bucket metadata\n",
    "print(\"Buckets in {}:\".format(client.project))\n",
    "for bucket in buckets:\n",
    "    print(\"\\t Bucket name: {}\".format(bucket.name))\n",
    "    print(\"\\t Bucket location: {}\".format(bucket.location))\n",
    "    print(\"\\t Bucket storage class: {}\".format(bucket.storage_class))"
   ]
  },
  {
   "cell_type": "code",
   "execution_count": 4,
   "id": "b732e6d2",
   "metadata": {},
   "outputs": [],
   "source": [
    "# Set bucket for data storage\n",
    "bucket = client.get_bucket('talk-bucket')"
   ]
  },
  {
   "cell_type": "code",
   "execution_count": 5,
   "id": "608cf6d8",
   "metadata": {},
   "outputs": [
    {
     "name": "stdout",
     "output_type": "stream",
     "text": [
      "Blobs in talk-bucket:\n",
      "Name: AgainstHateSubreddits\n",
      "\t ID: talk-bucket/AgainstHateSubreddits/1628511471991024\n",
      "\t Size: 6.14297 MB\n",
      "\t Content type: application/octet-stream\n",
      "\t Public URL: https://storage.googleapis.com/talk-bucket/AgainstHateSubreddits\n",
      "\n",
      "\n",
      "Name: GenderCritical\n",
      "\t ID: talk-bucket/GenderCritical/1629192636392187\n",
      "\t Size: 18.061418 MB\n",
      "\t Content type: application/octet-stream\n",
      "\t Public URL: https://storage.googleapis.com/talk-bucket/GenderCritical\n",
      "\n",
      "\n",
      "Name: MGTOW\n",
      "\t ID: talk-bucket/MGTOW/1629192130424207\n",
      "\t Size: 52.368258 MB\n",
      "\t Content type: application/octet-stream\n",
      "\t Public URL: https://storage.googleapis.com/talk-bucket/MGTOW\n",
      "\n",
      "\n",
      "Name: MGTOW2\n",
      "\t ID: talk-bucket/MGTOW2/1629192252369299\n",
      "\t Size: 6.459137999999999 MB\n",
      "\t Content type: application/octet-stream\n",
      "\t Public URL: https://storage.googleapis.com/talk-bucket/MGTOW2\n",
      "\n",
      "\n",
      "Name: changemyview\n",
      "\t ID: talk-bucket/changemyview/1628510306468297\n",
      "\t Size: 33.30805 MB\n",
      "\t Content type: application/octet-stream\n",
      "\t Public URL: https://storage.googleapis.com/talk-bucket/changemyview\n",
      "\n",
      "\n",
      "Name: conservative\n",
      "\t ID: talk-bucket/conservative/1628773771956265\n",
      "\t Size: 46.896138 MB\n",
      "\t Content type: application/octet-stream\n",
      "\t Public URL: https://storage.googleapis.com/talk-bucket/conservative\n",
      "\n",
      "\n",
      "Name: conspiracy\n",
      "\t ID: talk-bucket/conspiracy/1628778005856383\n",
      "\t Size: 113.08291399999999 MB\n",
      "\t Content type: application/octet-stream\n",
      "\t Public URL: https://storage.googleapis.com/talk-bucket/conspiracy\n",
      "\n",
      "\n",
      "Name: cringeanarchy\n",
      "\t ID: talk-bucket/cringeanarchy/1629189330800044\n",
      "\t Size: 5.4534899999999995 MB\n",
      "\t Content type: application/octet-stream\n",
      "\t Public URL: https://storage.googleapis.com/talk-bucket/cringeanarchy\n",
      "\n",
      "\n",
      "Name: metacanada\n",
      "\t ID: talk-bucket/metacanada/1628779825457071\n",
      "\t Size: 8.579089999999999 MB\n",
      "\t Content type: application/octet-stream\n",
      "\t Public URL: https://storage.googleapis.com/talk-bucket/metacanada\n",
      "\n",
      "\n"
     ]
    }
   ],
   "source": [
    "# Check current data storage utilisation in bucket\n",
    "blobs = bucket.list_blobs()\n",
    "\n",
    "print(\"Blobs in {}:\".format(bucket.name))\n",
    "for item in blobs:\n",
    "    print(\"Name: \" + item.name)\n",
    "    print(\"\\t ID: {}\".format(item.id))\n",
    "    print(\"\\t Size: {} MB\".format(item.size*0.000001))\n",
    "    print(\"\\t Content type: {}\".format(item.content_type))\n",
    "    print(\"\\t Public URL: {}\".format(item.public_url))\n",
    "    print(\"\\n\")"
   ]
  },
  {
   "cell_type": "markdown",
   "id": "88254c88",
   "metadata": {},
   "source": [
    "# Data Collection"
   ]
  },
  {
   "cell_type": "markdown",
   "id": "0222df83",
   "metadata": {},
   "source": [
    "### Initialisation"
   ]
  },
  {
   "cell_type": "code",
   "execution_count": 6,
   "id": "cee0dd62",
   "metadata": {},
   "outputs": [],
   "source": [
    "# Initialise PRAW instance\n",
    "reddit = praw.Reddit(\n",
    "    client_id = c_id,\n",
    "    client_secret = c_secret,\n",
    "    user_agent = \"my user agent\",\n",
    "    username = u,\n",
    "    password = p,\n",
    ")\n",
    "\n",
    "# Initialise PSAW instance with PRAW \n",
    "api = PushshiftAPI(reddit)\n",
    "\n",
    "# Initialise PSAW instance without PRAW for banned subreddits\n",
    "api_banned = PushshiftAPI()"
   ]
  },
  {
   "cell_type": "markdown",
   "id": "1ed422d0",
   "metadata": {},
   "source": [
    "### Function for Data Collection"
   ]
  },
  {
   "cell_type": "code",
   "execution_count": 7,
   "id": "178e6756",
   "metadata": {},
   "outputs": [],
   "source": [
    "# Set start and end dates for data retrieval\n",
    "start_epoch = int(dt.datetime(2018, 4, 1).timestamp())\n",
    "end_epoch = int(dt.datetime(2021, 4, 30).timestamp())"
   ]
  },
  {
   "cell_type": "code",
   "execution_count": 8,
   "id": "fd4f7ec4",
   "metadata": {},
   "outputs": [],
   "source": [
    "# Function to retrieve and store a number of posts from a given subreddit\n",
    "def get_posts(subreddit, \n",
    "              start_epoch = start_epoch, \n",
    "              end_epoch = end_epoch, \n",
    "              num_posts = None, \n",
    "              banned = False, \n",
    "              name = None):\n",
    "    \n",
    "    try:\n",
    "        # Extract submissions via psaw and praw\n",
    "        if num_posts is None:\n",
    "        # Download all posts\n",
    "            if banned:\n",
    "                submissions = api_banned.search_submissions(subreddit = subreddit,\n",
    "                                                 after = start_epoch,\n",
    "                                                 before = end_epoch)\n",
    "            else:    \n",
    "                submissions = api.search_submissions(subreddit = subreddit,\n",
    "                                                 after = start_epoch,\n",
    "                                                 before = end_epoch)\n",
    "        \n",
    "        else:\n",
    "        # Download specified number of posts\n",
    "            if banned:\n",
    "                submissions = api_banned.search_submissions(subreddit = subreddit, \n",
    "                                             limit = num_posts, \n",
    "                                             after = start_epoch,\n",
    "                                             before = end_epoch)\n",
    "            \n",
    "            else:\n",
    "                submissions = api.search_submissions(subreddit = subreddit, \n",
    "                                             limit = num_posts, \n",
    "                                             after = start_epoch,\n",
    "                                             before = end_epoch)\n",
    "        \n",
    "        \n",
    "        # Convert downloaded data to a dataframe\n",
    "        if banned:\n",
    "            df = pd.DataFrame([obj.d_ for obj in submissions])\n",
    "            cleaned_df = df[['subreddit', \n",
    "                         'title', \n",
    "                         'selftext', \n",
    "                         'created_utc', \n",
    "                         'author',  \n",
    "                         'num_comments', \n",
    "                         'score', \n",
    "                         'url']]\n",
    "        else: \n",
    "            df = pd.DataFrame([vars(submission) for submission in submissions])\n",
    "             # Extract the required columns\n",
    "            cleaned_df = df[['subreddit', \n",
    "                         'title', \n",
    "                         'selftext', \n",
    "                         'created_utc', \n",
    "                         'author', \n",
    "                         'link_flair_text', \n",
    "                         'num_comments', \n",
    "                         'score', \n",
    "                         'upvote_ratio', \n",
    "                         'url']]\n",
    "        \n",
    "       \n",
    "        \n",
    "        # Convert dates to datetime\n",
    "        cleaned_df['created_utc'] = pd.to_datetime(cleaned_df['created_utc'], unit = 's')\n",
    "        \n",
    "        # Convert subreddit and author objects to string \n",
    "        cleaned_df['subreddit'] = cleaned_df['subreddit'].astype(str)\n",
    "        cleaned_df['author'] = cleaned_df['author'].astype(str)\n",
    "        \n",
    "        # Filter out removed and deleted posts\n",
    "        cleaned_df = cleaned_df[(cleaned_df['selftext'] != \"[removed]\") | (cleaned_df['selftext'] != \"[deleted]\" )]\n",
    "        \n",
    "        if name is None:\n",
    "            name = subreddit\n",
    "        \n",
    "        # Save as a feather - heh!\n",
    "        path = 'data/' + name\n",
    "        feather.write_feather(cleaned_df, path)\n",
    "        print(\"File saved locally\")\n",
    "        \n",
    "        # Save to storage bucket\n",
    "        blob_name = name\n",
    "        blob = bucket.blob(blob_name)\n",
    "        source_file_name = \"data/\" + blob_name\n",
    "        blob.upload_from_filename(source_file_name)\n",
    "        print(\"File uploaded to {}.\".format(bucket.name))\n",
    "        \n",
    "        return(cleaned_df)\n",
    "    \n",
    "    except Exception as e:\n",
    "        print('Error:', e)"
   ]
  },
  {
   "cell_type": "markdown",
   "id": "e654f133",
   "metadata": {},
   "source": [
    "### Retrieve submissions for CMV"
   ]
  },
  {
   "cell_type": "code",
   "execution_count": 40,
   "id": "73a3d00f",
   "metadata": {},
   "outputs": [
    {
     "name": "stderr",
     "output_type": "stream",
     "text": [
      "/opt/conda/lib/python3.7/site-packages/ipykernel_launcher.py:36: SettingWithCopyWarning: \n",
      "A value is trying to be set on a copy of a slice from a DataFrame.\n",
      "Try using .loc[row_indexer,col_indexer] = value instead\n",
      "\n",
      "See the caveats in the documentation: https://pandas.pydata.org/pandas-docs/stable/user_guide/indexing.html#returning-a-view-versus-a-copy\n",
      "/opt/conda/lib/python3.7/site-packages/ipykernel_launcher.py:39: SettingWithCopyWarning: \n",
      "A value is trying to be set on a copy of a slice from a DataFrame.\n",
      "Try using .loc[row_indexer,col_indexer] = value instead\n",
      "\n",
      "See the caveats in the documentation: https://pandas.pydata.org/pandas-docs/stable/user_guide/indexing.html#returning-a-view-versus-a-copy\n",
      "/opt/conda/lib/python3.7/site-packages/ipykernel_launcher.py:40: SettingWithCopyWarning: \n",
      "A value is trying to be set on a copy of a slice from a DataFrame.\n",
      "Try using .loc[row_indexer,col_indexer] = value instead\n",
      "\n",
      "See the caveats in the documentation: https://pandas.pydata.org/pandas-docs/stable/user_guide/indexing.html#returning-a-view-versus-a-copy\n"
     ]
    },
    {
     "name": "stdout",
     "output_type": "stream",
     "text": [
      "File saved locally\n",
      "File uploaded to dulshani_bucket.\n"
     ]
    },
    {
     "data": {
      "text/html": [
       "<div>\n",
       "<style scoped>\n",
       "    .dataframe tbody tr th:only-of-type {\n",
       "        vertical-align: middle;\n",
       "    }\n",
       "\n",
       "    .dataframe tbody tr th {\n",
       "        vertical-align: top;\n",
       "    }\n",
       "\n",
       "    .dataframe thead th {\n",
       "        text-align: right;\n",
       "    }\n",
       "</style>\n",
       "<table border=\"1\" class=\"dataframe\">\n",
       "  <thead>\n",
       "    <tr style=\"text-align: right;\">\n",
       "      <th></th>\n",
       "      <th>subreddit</th>\n",
       "      <th>title</th>\n",
       "      <th>selftext</th>\n",
       "      <th>created_utc</th>\n",
       "      <th>author</th>\n",
       "      <th>link_flair_text</th>\n",
       "      <th>num_comments</th>\n",
       "      <th>score</th>\n",
       "      <th>upvote_ratio</th>\n",
       "      <th>url</th>\n",
       "    </tr>\n",
       "  </thead>\n",
       "  <tbody>\n",
       "    <tr>\n",
       "      <th>45877</th>\n",
       "      <td>changemyview</td>\n",
       "      <td>CMV: Mike Bloomberg's campaign is proof that the ultra wealthy in the US can afford a higher tax rate with no ill effect on them</td>\n",
       "      <td>Mike Bloomberg recently dropped out of the 2020 Presidential race after spending over $500 million dollars of his own money on his campaign. Even with this loss, he is still worth over $55 billion dollars.\\n\\n\\nI believe that this effortless spending on Bloombergs part showcases the reality that is wealth inequality between the ultra rich and working class. While I do not believe the rich shou...</td>\n",
       "      <td>2020-03-05 18:22:18</td>\n",
       "      <td>boss_454</td>\n",
       "      <td>Delta(s) from OP</td>\n",
       "      <td>3753</td>\n",
       "      <td>65396</td>\n",
       "      <td>0.84</td>\n",
       "      <td>https://www.reddit.com/r/changemyview/comments/fdziov/cmv_mike_bloombergs_campaign_is_proof_that_the/</td>\n",
       "    </tr>\n",
       "    <tr>\n",
       "      <th>30287</th>\n",
       "      <td>changemyview</td>\n",
       "      <td>CMV: Kanye West is a shill for president Trump and running to syphon off young voters from voting for Biden.</td>\n",
       "      <td>Kanye West is a shill for president Trump and running to syphon off young voters from voting for Biden. First, he may have an excentric take on reality but can't honestly believe that he has a chance of winning. Second, if he truly wanted to be president, he would have started his campaign last year when he still had a chance to get on state ballots. Third, he has been an avid defender of Trum...</td>\n",
       "      <td>2020-07-05 16:25:43</td>\n",
       "      <td>Psyworld</td>\n",
       "      <td>Delta(s) from OP</td>\n",
       "      <td>2080</td>\n",
       "      <td>54485</td>\n",
       "      <td>0.79</td>\n",
       "      <td>https://www.reddit.com/r/changemyview/comments/hlpd7d/cmv_kanye_west_is_a_shill_for_president_trump_and/</td>\n",
       "    </tr>\n",
       "    <tr>\n",
       "      <th>14962</th>\n",
       "      <td>changemyview</td>\n",
       "      <td>CMV: Every candidate for a federal position in the United States of America Government should take the same Civics test that immigrants need if they want to become citizens.</td>\n",
       "      <td>[removed]</td>\n",
       "      <td>2020-11-15 18:03:51</td>\n",
       "      <td>thehistoryuniversity</td>\n",
       "      <td>Removed - Submission Rule B</td>\n",
       "      <td>1165</td>\n",
       "      <td>49222</td>\n",
       "      <td>0.86</td>\n",
       "      <td>https://www.reddit.com/r/changemyview/comments/juq86c/cmv_every_candidate_for_a_federal_position_in_the/</td>\n",
       "    </tr>\n",
       "    <tr>\n",
       "      <th>307</th>\n",
       "      <td>changemyview</td>\n",
       "      <td>CMV: Most Americans who oppose a national healthcare system would quickly change their tune once they benefited from it.</td>\n",
       "      <td>I used to think I was against a national healthcare system until after I got out of the army. Granted the VA isn't always great necessarily, but it feels *fantastic* to walk out of the hospital after an appointment without ever seeing a cash register when it would have cost me potentially thousands of dollars otherwise. It's something that I don't think just veterans should be able to experien...</td>\n",
       "      <td>2021-04-27 15:30:56</td>\n",
       "      <td>CrashRiot</td>\n",
       "      <td>Delta(s) from OP</td>\n",
       "      <td>6951</td>\n",
       "      <td>44820</td>\n",
       "      <td>0.81</td>\n",
       "      <td>https://www.reddit.com/r/changemyview/comments/mzr23d/cmv_most_americans_who_oppose_a_national/</td>\n",
       "    </tr>\n",
       "    <tr>\n",
       "      <th>21773</th>\n",
       "      <td>changemyview</td>\n",
       "      <td>CMV: Donald Trump has not made a single lasting positive impact on the USA during his term as president.</td>\n",
       "      <td>I write this because I am tired of the wild goose chase that is finding examples of his success. Anything surrounding Donald Trump is shrouded in divisive language and biased opinions. Liberals will have you believe he has done nothing, while conservatives will tout his unlimited success. I must be missing it, because any time I try to research into a topic I get lost in opinion and bias. \\n\\n...</td>\n",
       "      <td>2020-09-10 14:11:37</td>\n",
       "      <td>farm_sauce</td>\n",
       "      <td>Delta(s) from OP</td>\n",
       "      <td>5212</td>\n",
       "      <td>36281</td>\n",
       "      <td>0.74</td>\n",
       "      <td>https://www.reddit.com/r/changemyview/comments/iq41dt/cmv_donald_trump_has_not_made_a_single_lasting/</td>\n",
       "    </tr>\n",
       "  </tbody>\n",
       "</table>\n",
       "</div>"
      ],
      "text/plain": [
       "          subreddit  \\\n",
       "45877  changemyview   \n",
       "30287  changemyview   \n",
       "14962  changemyview   \n",
       "307    changemyview   \n",
       "21773  changemyview   \n",
       "\n",
       "                                                                                                                                                                               title  \\\n",
       "45877                                               CMV: Mike Bloomberg's campaign is proof that the ultra wealthy in the US can afford a higher tax rate with no ill effect on them   \n",
       "30287                                                                   CMV: Kanye West is a shill for president Trump and running to syphon off young voters from voting for Biden.   \n",
       "14962  CMV: Every candidate for a federal position in the United States of America Government should take the same Civics test that immigrants need if they want to become citizens.   \n",
       "307                                                         CMV: Most Americans who oppose a national healthcare system would quickly change their tune once they benefited from it.   \n",
       "21773                                                                       CMV: Donald Trump has not made a single lasting positive impact on the USA during his term as president.   \n",
       "\n",
       "                                                                                                                                                                                                                                                                                                                                                                                                              selftext  \\\n",
       "45877  Mike Bloomberg recently dropped out of the 2020 Presidential race after spending over $500 million dollars of his own money on his campaign. Even with this loss, he is still worth over $55 billion dollars.\\n\\n\\nI believe that this effortless spending on Bloombergs part showcases the reality that is wealth inequality between the ultra rich and working class. While I do not believe the rich shou...   \n",
       "30287  Kanye West is a shill for president Trump and running to syphon off young voters from voting for Biden. First, he may have an excentric take on reality but can't honestly believe that he has a chance of winning. Second, if he truly wanted to be president, he would have started his campaign last year when he still had a chance to get on state ballots. Third, he has been an avid defender of Trum...   \n",
       "14962                                                                                                                                                                                                                                                                                                                                                                                                        [removed]   \n",
       "307    I used to think I was against a national healthcare system until after I got out of the army. Granted the VA isn't always great necessarily, but it feels *fantastic* to walk out of the hospital after an appointment without ever seeing a cash register when it would have cost me potentially thousands of dollars otherwise. It's something that I don't think just veterans should be able to experien...   \n",
       "21773  I write this because I am tired of the wild goose chase that is finding examples of his success. Anything surrounding Donald Trump is shrouded in divisive language and biased opinions. Liberals will have you believe he has done nothing, while conservatives will tout his unlimited success. I must be missing it, because any time I try to research into a topic I get lost in opinion and bias. \\n\\n...   \n",
       "\n",
       "              created_utc                author              link_flair_text  \\\n",
       "45877 2020-03-05 18:22:18              boss_454             Delta(s) from OP   \n",
       "30287 2020-07-05 16:25:43              Psyworld             Delta(s) from OP   \n",
       "14962 2020-11-15 18:03:51  thehistoryuniversity  Removed - Submission Rule B   \n",
       "307   2021-04-27 15:30:56             CrashRiot             Delta(s) from OP   \n",
       "21773 2020-09-10 14:11:37            farm_sauce             Delta(s) from OP   \n",
       "\n",
       "       num_comments  score  upvote_ratio  \\\n",
       "45877          3753  65396          0.84   \n",
       "30287          2080  54485          0.79   \n",
       "14962          1165  49222          0.86   \n",
       "307            6951  44820          0.81   \n",
       "21773          5212  36281          0.74   \n",
       "\n",
       "                                                                                                            url  \n",
       "45877     https://www.reddit.com/r/changemyview/comments/fdziov/cmv_mike_bloombergs_campaign_is_proof_that_the/  \n",
       "30287  https://www.reddit.com/r/changemyview/comments/hlpd7d/cmv_kanye_west_is_a_shill_for_president_trump_and/  \n",
       "14962  https://www.reddit.com/r/changemyview/comments/juq86c/cmv_every_candidate_for_a_federal_position_in_the/  \n",
       "307             https://www.reddit.com/r/changemyview/comments/mzr23d/cmv_most_americans_who_oppose_a_national/  \n",
       "21773     https://www.reddit.com/r/changemyview/comments/iq41dt/cmv_donald_trump_has_not_made_a_single_lasting/  "
      ]
     },
     "execution_count": 40,
     "metadata": {},
     "output_type": "execute_result"
    }
   ],
   "source": [
    "# Get all posts for CMV in the given time period\n",
    "cmv_df = get_posts('changemyview', start_epoch, end_epoch).sort_values(by = 'score', ascending = False)\n",
    "cmv_df.head(5)"
   ]
  },
  {
   "cell_type": "code",
   "execution_count": 41,
   "id": "02050921",
   "metadata": {},
   "outputs": [
    {
     "data": {
      "text/html": [
       "<div>\n",
       "<style scoped>\n",
       "    .dataframe tbody tr th:only-of-type {\n",
       "        vertical-align: middle;\n",
       "    }\n",
       "\n",
       "    .dataframe tbody tr th {\n",
       "        vertical-align: top;\n",
       "    }\n",
       "\n",
       "    .dataframe thead th {\n",
       "        text-align: right;\n",
       "    }\n",
       "</style>\n",
       "<table border=\"1\" class=\"dataframe\">\n",
       "  <thead>\n",
       "    <tr style=\"text-align: right;\">\n",
       "      <th></th>\n",
       "      <th>num_comments</th>\n",
       "      <th>score</th>\n",
       "      <th>upvote_ratio</th>\n",
       "    </tr>\n",
       "  </thead>\n",
       "  <tbody>\n",
       "    <tr>\n",
       "      <th>count</th>\n",
       "      <td>107759.000000</td>\n",
       "      <td>107759.000000</td>\n",
       "      <td>107759.000000</td>\n",
       "    </tr>\n",
       "    <tr>\n",
       "      <th>mean</th>\n",
       "      <td>36.448733</td>\n",
       "      <td>74.884548</td>\n",
       "      <td>0.768652</td>\n",
       "    </tr>\n",
       "    <tr>\n",
       "      <th>std</th>\n",
       "      <td>117.319998</td>\n",
       "      <td>782.396455</td>\n",
       "      <td>0.260082</td>\n",
       "    </tr>\n",
       "    <tr>\n",
       "      <th>min</th>\n",
       "      <td>0.000000</td>\n",
       "      <td>0.000000</td>\n",
       "      <td>0.040000</td>\n",
       "    </tr>\n",
       "    <tr>\n",
       "      <th>25%</th>\n",
       "      <td>0.000000</td>\n",
       "      <td>1.000000</td>\n",
       "      <td>0.550000</td>\n",
       "    </tr>\n",
       "    <tr>\n",
       "      <th>50%</th>\n",
       "      <td>3.000000</td>\n",
       "      <td>1.000000</td>\n",
       "      <td>0.870000</td>\n",
       "    </tr>\n",
       "    <tr>\n",
       "      <th>75%</th>\n",
       "      <td>39.000000</td>\n",
       "      <td>3.000000</td>\n",
       "      <td>1.000000</td>\n",
       "    </tr>\n",
       "    <tr>\n",
       "      <th>max</th>\n",
       "      <td>7736.000000</td>\n",
       "      <td>65396.000000</td>\n",
       "      <td>1.000000</td>\n",
       "    </tr>\n",
       "  </tbody>\n",
       "</table>\n",
       "</div>"
      ],
      "text/plain": [
       "        num_comments          score   upvote_ratio\n",
       "count  107759.000000  107759.000000  107759.000000\n",
       "mean       36.448733      74.884548       0.768652\n",
       "std       117.319998     782.396455       0.260082\n",
       "min         0.000000       0.000000       0.040000\n",
       "25%         0.000000       1.000000       0.550000\n",
       "50%         3.000000       1.000000       0.870000\n",
       "75%        39.000000       3.000000       1.000000\n",
       "max      7736.000000   65396.000000       1.000000"
      ]
     },
     "execution_count": 41,
     "metadata": {},
     "output_type": "execute_result"
    }
   ],
   "source": [
    "cmv_df.describe()"
   ]
  },
  {
   "cell_type": "markdown",
   "id": "c8999673",
   "metadata": {},
   "source": [
    "### Retrieve submissions for Against Hate Subreddits"
   ]
  },
  {
   "cell_type": "code",
   "execution_count": null,
   "id": "93003df6",
   "metadata": {},
   "outputs": [],
   "source": [
    "# Get all posts for CMV since inception to current date\n",
    "start_epoch_ahs = int(dt.datetime(2015, 6, 1).timestamp())\n",
    "end_epoch_ahs = int(dt.datetime(2021, 5, 31).timestamp())\n",
    "against_hate_df = get_posts('AgainstHateSubreddits', start_epoch_ahs, end_epoch_ahs)\n",
    "against_hate_df.describe()\n",
    "against_hate_df.head(5)"
   ]
  },
  {
   "cell_type": "markdown",
   "id": "156ac444",
   "metadata": {},
   "source": [
    "### Retrieve submissions for Polarised Subreddits"
   ]
  },
  {
   "cell_type": "code",
   "execution_count": 9,
   "id": "52cc4b5d",
   "metadata": {},
   "outputs": [],
   "source": [
    "subreddits = ['unpopularopinion', 'askaconservative', 'tucker_carlson', 'chodi', 'anarcho_capitalism', \n",
    "              'averageredditor', 'femaledatingstrategy', 'protectandserve']"
   ]
  },
  {
   "cell_type": "code",
   "execution_count": null,
   "id": "4577bed7",
   "metadata": {},
   "outputs": [
    {
     "name": "stdout",
     "output_type": "stream",
     "text": [
      "unpopularopinion\n"
     ]
    },
    {
     "name": "stderr",
     "output_type": "stream",
     "text": [
      "/opt/conda/lib/python3.7/site-packages/psaw/PushshiftAPI.py:252: UserWarning: Not all PushShift shards are active. Query results may be incomplete\n",
      "  warnings.warn(shards_down_message)\n",
      "/opt/conda/lib/python3.7/site-packages/psaw/PushshiftAPI.py:192: UserWarning: Got non 200 code 429\n",
      "  warnings.warn(\"Got non 200 code %s\" % response.status_code)\n",
      "/opt/conda/lib/python3.7/site-packages/psaw/PushshiftAPI.py:180: UserWarning: Unable to connect to pushshift.io. Retrying after backoff.\n",
      "  warnings.warn(\"Unable to connect to pushshift.io. Retrying after backoff.\")\n"
     ]
    }
   ],
   "source": [
    "# Retrieve submissions for subreddts\n",
    "for subreddit in subreddits:\n",
    "    print(subreddit)\n",
    "    get_posts(subreddit)"
   ]
  },
  {
   "cell_type": "code",
   "execution_count": null,
   "id": "63eb405c",
   "metadata": {},
   "outputs": [],
   "source": [
    "# List of required banned subreddits\n",
    "banned_subreddits = ['uncensorednews', 'altright', 'Incels', 'MGTOW', 'MGTOW2', 'GenderCritical', \n",
    "                     'Physical_Removal']\n",
    "banned_subreddits2 = ['donaldtrump', 'milliondollarextreme', 'altrightchristian']"
   ]
  },
  {
   "cell_type": "code",
   "execution_count": null,
   "id": "77a528cb",
   "metadata": {},
   "outputs": [],
   "source": [
    "# Retrieve submissions for banned subreddts\n",
    "for subreddit in banned_subreddits2:\n",
    "    print(subreddit)\n",
    "    get_posts(subreddit, banned = True)"
   ]
  },
  {
   "cell_type": "code",
   "execution_count": null,
   "id": "478b0d53",
   "metadata": {},
   "outputs": [],
   "source": [
    "# The Donald: download requires to be in several phases due to large volume of data\n",
    "\n",
    "# Set start and end dates for data retrieval\n",
    "print('Phase 1')\n",
    "start_epoch_donald = int(dt.datetime(2018, 4, 1).timestamp())\n",
    "end_epoch_donald = int(dt.datetime(2018, 12, 31).timestamp())\n",
    "d1 = get_posts('The_Donald', start_epoch_donald, end_epoch_donald, banned = True)\n",
    "\n",
    "print('Phase 2')\n",
    "start_epoch_donald2 = int(dt.datetime(2019, 1, 1).timestamp())\n",
    "end_epoch_donald2 = int(dt.datetime(2019, 12, 31).timestamp())\n",
    "d2 = get_posts('The_Donald', start_epoch_donald2, end_epoch_donald2, banned = True, name = 'The_Donald2')\n",
    "\n",
    "print('Phase 3')\n",
    "start_epoch_donald3 = int(dt.datetime(2020, 1, 1).timestamp())\n",
    "end_epoch_donald3 = int(dt.datetime(2021, 5, 31).timestamp())\n",
    "d3 = get_posts('The_Donald', start_epoch_donald3, end_epoch_donald3, banned = True, name = 'The_Donald2')"
   ]
  },
  {
   "cell_type": "markdown",
   "id": "57af219b",
   "metadata": {},
   "source": [
    "# Retrieve User Details"
   ]
  },
  {
   "cell_type": "code",
   "execution_count": null,
   "id": "b527bc62",
   "metadata": {},
   "outputs": [],
   "source": []
  },
  {
   "cell_type": "code",
   "execution_count": null,
   "id": "a0ea790e",
   "metadata": {},
   "outputs": [],
   "source": []
  },
  {
   "cell_type": "code",
   "execution_count": null,
   "id": "45c81ceb",
   "metadata": {},
   "outputs": [],
   "source": []
  },
  {
   "cell_type": "code",
   "execution_count": null,
   "id": "44676610",
   "metadata": {},
   "outputs": [],
   "source": []
  },
  {
   "cell_type": "code",
   "execution_count": null,
   "id": "56495ee3",
   "metadata": {},
   "outputs": [],
   "source": []
  },
  {
   "cell_type": "code",
   "execution_count": null,
   "id": "d6ef732d",
   "metadata": {},
   "outputs": [],
   "source": []
  },
  {
   "cell_type": "markdown",
   "id": "0fda879d",
   "metadata": {},
   "source": [
    "### Utility Functions"
   ]
  },
  {
   "cell_type": "code",
   "execution_count": 30,
   "id": "38dd1ff7",
   "metadata": {},
   "outputs": [
    {
     "name": "stdout",
     "output_type": "stream",
     "text": [
      "['subreddit', 'title', 'selftext', 'created_utc', 'author', 'link_flair_text', 'num_comments', 'score', 'url']\n"
     ]
    }
   ],
   "source": [
    "print(df.columns.tolist())"
   ]
  },
  {
   "cell_type": "code",
   "execution_count": null,
   "id": "87fb0214",
   "metadata": {},
   "outputs": [],
   "source": [
    "df = pd.DataFrame([ vars(post) for post in reddit.subreddit(\"AgainstHateSubreddits\").top(\"year\", limit=10)])\n",
    "df.head(3)"
   ]
  },
  {
   "cell_type": "code",
   "execution_count": null,
   "id": "ab8f913c",
   "metadata": {},
   "outputs": [],
   "source": [
    "# Experimenting with the Pushshift API\n",
    "# https://github.com/dmarx/psaw/issues/78\n",
    "api = PushshiftAPI()\n",
    "gen = api.search_submissions(**{\"subreddit\": \"the_donald\", \"selftext:not\": \"[removed]|[deleted]\",\n",
    "                               \"filter\": \"['title', 'selftext', 'created_utc', 'author', 'link_flair_text', 'num_comments', 'score', 'upvote_ratio', 'url']\"\n",
    "                               })"
   ]
  },
  {
   "cell_type": "code",
   "execution_count": null,
   "id": "abfea7a9",
   "metadata": {},
   "outputs": [],
   "source": [
    "# Group by flair, aggregate and order by count\n",
    "df.groupby(['link_flair_text'])['title'].agg(['count']).sort_values(ascending = False)"
   ]
  },
  {
   "cell_type": "markdown",
   "id": "7c9ba0a1",
   "metadata": {},
   "source": [
    "### Useful Functions"
   ]
  }
 ],
 "metadata": {
  "environment": {
   "name": "common-cpu.m76",
   "type": "gcloud",
   "uri": "gcr.io/deeplearning-platform-release/base-cpu:m76"
  },
  "kernelspec": {
   "display_name": "Python 3",
   "language": "python",
   "name": "python3"
  },
  "language_info": {
   "codemirror_mode": {
    "name": "ipython",
    "version": 3
   },
   "file_extension": ".py",
   "mimetype": "text/x-python",
   "name": "python",
   "nbconvert_exporter": "python",
   "pygments_lexer": "ipython3",
   "version": "3.7.10"
  },
  "toc": {
   "base_numbering": 1,
   "nav_menu": {},
   "number_sections": true,
   "sideBar": true,
   "skip_h1_title": true,
   "title_cell": "Table of Contents",
   "title_sidebar": "Contents",
   "toc_cell": false,
   "toc_position": {},
   "toc_section_display": true,
   "toc_window_display": false
  }
 },
 "nbformat": 4,
 "nbformat_minor": 5
}
